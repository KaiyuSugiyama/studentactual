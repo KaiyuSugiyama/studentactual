{
 "cells": [
  {
   "cell_type": "markdown",
   "metadata": {},
   "source": [
    "---\n",
    "comments: true\n",
    "layout: post\n",
    "title: Variables\n",
    "courses: {csp: {week: 7} }\n",
    "type: hacks\n",
    "permalink: /teach/home\n",
    "---"
   ]
  },
  {
   "cell_type": "markdown",
   "metadata": {},
   "source": [
    "## Popcorn Hack"
   ]
  },
  {
   "cell_type": "markdown",
   "metadata": {},
   "source": [
    "## Requirements for variable\n",
    "-Not too complicated\n",
    "-Not too simple"
   ]
  },
  {
   "cell_type": "code",
   "execution_count": 1,
   "metadata": {},
   "outputs": [
    {
     "name": "stdout",
     "output_type": "stream",
     "text": [
      "16\n"
     ]
    }
   ],
   "source": [
    "numLettersinAlphabet=26\n",
    "print(numLettersinAlphabet)"
   ]
  },
  {
   "cell_type": "markdown",
   "metadata": {},
   "source": [
    "## Data Types\n",
    "-Integer: Mathematical Numbers\n",
    "-Booiean: yes/no or true/false statements\n",
    "-String (text): text based info"
   ]
  },
  {
   "cell_type": "code",
   "execution_count": 6,
   "metadata": {},
   "outputs": [
    {
     "name": "stdout",
     "output_type": "stream",
     "text": [
      "9 is an integer\n",
      "False is a booiean\n",
      "Kaiyu is a string\n"
     ]
    }
   ],
   "source": [
    "number = 9\n",
    "sunny = False \n",
    "firstName = \"Kaiyu\"\n",
    "print(str(number) + \" is an integer\")\n",
    "print(str(sunny) + \" is a booiean\")\n",
    "print(str(firstName) + \" is a string\")"
   ]
  },
  {
   "cell_type": "markdown",
   "metadata": {},
   "source": [
    "## Changing values"
   ]
  },
  {
   "cell_type": "code",
   "execution_count": 4,
   "metadata": {},
   "outputs": [
    {
     "name": "stdout",
     "output_type": "stream",
     "text": [
      "10\n"
     ]
    }
   ],
   "source": [
    "currentScore = 10\n",
    "highSchore = currentScore\n",
    "print(str(highSchore))"
   ]
  },
  {
   "cell_type": "code",
   "execution_count": 3,
   "metadata": {},
   "outputs": [
    {
     "name": "stdout",
     "output_type": "stream",
     "text": [
      "1\n",
      "3\n",
      "3\n"
     ]
    }
   ],
   "source": [
    "num1 = 1\n",
    "num2 = 2\n",
    "num3 = 3\n",
    "num2 = num3\n",
    "print(str(num1))\n",
    "print(str(num2))\n",
    "print(str(num3))"
   ]
  },
  {
   "cell_type": "markdown",
   "metadata": {},
   "source": [
    "## Strings and Lists\n",
    "String: an ordered sequence of characters\n",
    "Lists: an ordered sequence of elements\n"
   ]
  },
  {
   "cell_type": "code",
   "execution_count": 10,
   "metadata": {},
   "outputs": [
    {
     "name": "stdout",
     "output_type": "stream",
     "text": [
      "My second period class is AP Biology\n"
     ]
    }
   ],
   "source": [
    "CurrentClasses = [\"Calculus BC\", \"AP Biology\", \"US History\", \"AP CSP\", \"AM Lit\"]\n",
    "print(\"My second period class is \" + CurrentClasses[1])\n"
   ]
  },
  {
   "cell_type": "markdown",
   "metadata": {},
   "source": [
    "## Data Abstraction - Lists\n",
    "Can help with not having to defineeach variable of a list."
   ]
  },
  {
   "cell_type": "code",
   "execution_count": 13,
   "metadata": {},
   "outputs": [
    {
     "name": "stdout",
     "output_type": "stream",
     "text": [
      "[33, 23, 56, 63]\n"
     ]
    }
   ],
   "source": [
    "scores1 = [33, 23, 56, 63]\n",
    "scores2 = [63, 34, 24, 26]\n",
    "scores2 = scores1\n",
    "print(scores2)"
   ]
  },
  {
   "cell_type": "markdown",
   "metadata": {},
   "source": [
    "## Json \n",
    "Helps connect frontend and backend"
   ]
  },
  {
   "cell_type": "markdown",
   "metadata": {},
   "source": [
    "## Homework"
   ]
  },
  {
   "cell_type": "markdown",
   "metadata": {},
   "source": [
    "Variable 1 = integer\n",
    "Variable 2 = string\n",
    "Variable 3 = list\n",
    "Variable 4 = boolean "
   ]
  },
  {
   "cell_type": "code",
   "execution_count": 5,
   "metadata": {},
   "outputs": [
    {
     "name": "stdout",
     "output_type": "stream",
     "text": [
      "6\n",
      "MacBook Pro\n",
      "['Kaiyu', 'Komay', 'Akiko', 'Nobu']\n",
      "False\n"
     ]
    }
   ],
   "source": [
    "# Variable 1 (integer)\n",
    "numofshirts = 6\n",
    "print(numofshirts)\n",
    "\n",
    "# Variable 2 (string)\n",
    "computer = \"MacBook Pro\"\n",
    "print(computer)\n",
    "\n",
    "# Variable 3 (list)\n",
    "family = [\"Kaiyu\", \"Komay\", \"Akiko\", \"Nobu\"]\n",
    "print(family)\n",
    "\n",
    "# Variable 4 (boolean)\n",
    "car = False\n",
    "print(car)\n"
   ]
  }
 ],
 "metadata": {
  "kernelspec": {
   "display_name": "Python 3",
   "language": "python",
   "name": "python3"
  },
  "language_info": {
   "codemirror_mode": {
    "name": "ipython",
    "version": 3
   },
   "file_extension": ".py",
   "mimetype": "text/x-python",
   "name": "python",
   "nbconvert_exporter": "python",
   "pygments_lexer": "ipython3",
   "version": "3.11.5"
  },
  "orig_nbformat": 4
 },
 "nbformat": 4,
 "nbformat_minor": 2
}
