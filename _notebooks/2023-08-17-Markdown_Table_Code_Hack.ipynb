{
 "cells": [
  {
   "attachments": {},
   "cell_type": "markdown",
   "metadata": {},
   "source": [
    "---\n",
    "toc: true\n",
    "comments: false\n",
    "layout: post\n",
    "title: Markdown table \n",
    "description: This shows markdown cell, markdown table, markdown code fencing, and code cells.\n",
    "courses: { compsci: {week: 3} }\n",
    "type: hacks\n",
    "---"
   ]
  },
  {
   "cell_type": "markdown",
   "metadata": {},
   "source": [
    "### Markdown Table\n",
    "| Team               | Country  | Best Player    |\n",
    "|--------------------|----------|----------------|\n",
    "| 1. Manchester City | England  | Kevin De Bruyne|\n",
    "| 2. Real Madrid     | Spain    | Vini Jr.       |\n",
    "| 3. Arsenal         | England  | Odegaard       |\n",
    "| 4. Liverpool       | England  | Darwin Nunez   |\n",
    "| 5. Barcelona       | Spain    | Lewandowski    |\n",
    "| 6. Manchester United| England | Rashford       |\n"
   ]
  }
 ],
 "metadata": {
  "kernelspec": {
   "display_name": "base",
   "language": "python",
   "name": "python3"
  },
  "language_info": {
   "codemirror_mode": {
    "name": "ipython",
    "version": 3
   },
   "file_extension": ".py",
   "mimetype": "text/x-python",
   "name": "python",
   "nbconvert_exporter": "python",
   "pygments_lexer": "ipython3",
   "version": "3.11.5"
  },
  "orig_nbformat": 4
 },
 "nbformat": 4,
 "nbformat_minor": 2
}
