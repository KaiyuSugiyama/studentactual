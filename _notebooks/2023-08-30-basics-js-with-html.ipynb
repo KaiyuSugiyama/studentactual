{
 "cells": [
  {
   "cell_type": "markdown",
   "metadata": {},
   "source": [
    "---\n",
    "toc: true\n",
    "comments: false\n",
    "layout: post\n",
    "title: Using Javascript with HTML DOM\n",
    "description: A Tech Talk on how javascript can interact with HTML DOM\n",
    "type: hacks\n",
    "courses: { csp: {week: 5} }\n",
    "---"
   ]
  },
  {
   "cell_type": "raw",
   "metadata": {},
   "source": [
    "{% include nav_basics.html %}\n"
   ]
  },
  {
   "cell_type": "markdown",
   "metadata": {},
   "source": [
    "\n",
    "# Following along\n",
    "Remember to \"git pull\" on teacher repository to update to lates.\n",
    "- Run this notebook in VSCode\n",
    "- Activate Help-Toogel Developer Tools to add console outputs to runtime experience"
   ]
  },
  {
   "cell_type": "markdown",
   "metadata": {},
   "source": [
    "# Referencing HTML elements using javascript\n",
    "- To get an HTML element, use ``document.getElementById(\"idTag\")``\n",
    "- You will use the ID that you set in your HTML\n",
    "- if you `console.log` the resulting variable you will get some information about the element"
   ]
  },
  {
   "cell_type": "code",
   "execution_count": null,
   "metadata": {},
   "outputs": [],
   "source": [
    "%%html\n",
    "<!-- the ID must be specified within the element -->\n",
    "<h1 id=\"domTitleID\">My Title</h1>\n",
    "\n",
    "<!-- javascript goes here -->\n",
    "<script>\n",
    "var titleElement = document.getElementById(\"domTitleID\")\n",
    "<!-- outputs h1 tag -->\n",
    "console.log(\"Example #1, show element in DOM\")\n",
    "console.log(titleElement)\n",
    "</script>"
   ]
  },
  {
   "cell_type": "markdown",
   "metadata": {},
   "source": [
    "# Getting the data within the HTML element\n",
    "- The variable titleElement stores the \"object\"\n",
    "- Basically think of this as the group of data enclosed in HTML tag\n",
    "- To access a certain type of data from an \"object\" we use \".\" notation\n",
    "  - .innerHTML gets data within center of tag"
   ]
  },
  {
   "cell_type": "code",
   "execution_count": null,
   "metadata": {},
   "outputs": [],
   "source": [
    "%%html\n",
    "<!-- the ID must be specified within the element -->\n",
    "<h1 id=\"domTitleIDget\">My Title</h1>\n",
    "\n",
    "<!-- javascript goes here -->\n",
    "<script>\n",
    "var titleElement = document.getElementById(\"domTitleIDget\")\n",
    "<!-- outputs h1 innerHTML from h1 tag -->\n",
    "console.log(\"Example #2, show innerHTML\")\n",
    "console.log(titleElement.innerHTML)\n",
    "</script>"
   ]
  },
  {
   "cell_type": "markdown",
   "metadata": {},
   "source": [
    "# Setting the data within the HTML Element\n",
    "- The innerHTML data in this \"object\" can be set like a variable\n",
    "  - Change the value of the innerHTML using the \"=\" (assignment) operator"
   ]
  },
  {
   "cell_type": "code",
   "execution_count": null,
   "metadata": {},
   "outputs": [],
   "source": [
    "%%html\n",
    "<!-- the ID must be specified on the element -->\n",
    "<h1 id=\"domTitleIDset\">My Title</h1>\n",
    "\n",
    "<!-- javascript goes here -->\n",
    "<script>\n",
    "var titleElement = document.getElementById(\"domTitleIDset\")\n",
    "titleElement.innerHTML = \"Set and Update My Title\"\n",
    "<!-- outputs h1 innerHTML after h1 tag has been updated -->\n",
    "console.log(\"Example #3, update innerHTML\")\n",
    "console.log(titleElement.innerHTML)\n",
    "</script>"
   ]
  },
  {
   "cell_type": "markdown",
   "metadata": {},
   "source": [
    "# Creating elements\n",
    "- Create a new element with the document.createElement function -> takes in the type of element\n",
    "- Set properties in the element just like the \"h1\" example"
   ]
  },
  {
   "cell_type": "code",
   "execution_count": null,
   "metadata": {},
   "outputs": [],
   "source": [
    "%%html\n",
    "<!-- the ID must be specified on the element -->\n",
    "<div id=\"divContainerID\">\n",
    "    <h1 id=\"h1ElementID\">My Title</h1>\n",
    "</div>\n",
    "\n",
    "<!-- javascript goes here -->\n",
    "<script>\n",
    "   // creates a new element\n",
    "   var pElement = document.createElement(\"p\")\n",
    "   pElement.innerHTML = \"Starting a paragraph of text.\"\n",
    "   \n",
    "   // outputs p tag after it has been created\n",
    "   console.log(\"Example #4, create a p tag within JS\")\n",
    "   console.log(pElement)\n",
    "</script>"
   ]
  },
  {
   "cell_type": "markdown",
   "metadata": {},
   "source": [
    "# Issue! How to Create element that appears in HTML?\n",
    "- Here is a visualization of what is happening => the \"p\" is not placed inside the HRML page!\n",
    "![visual on p tag floating]({{ site.baseurl }}/images/dom-visual-1.png)\n"
   ]
  },
  {
   "cell_type": "markdown",
   "metadata": {},
   "source": [
    "# Solution\n",
    "- Correct by placeing the element somewhere in the page\n",
    "- For example, we could add the element within the div\n",
    "   - For this, use the appendChild function on the div object (the parameter would be the p element we created)\n",
    "   - Remember, use the getELementById to get the object for something in the html (the div!)\n",
    "- Updated Diagram\n",
    "![visual on p tag in div]({{ site.baseurl }}/images/dom-visual-2.png)"
   ]
  },
  {
   "cell_type": "code",
   "execution_count": null,
   "metadata": {},
   "outputs": [],
   "source": [
    "%%html\n",
    "<!-- the ID must be specified on the element -->\n",
    "<div id=\"divContainerIDset\">\n",
    "    <h1 id=\"h1ElementIDset\">My Title</h1>\n",
    "</div>\n",
    "\n",
    "<!-- javascript goes here -->\n",
    "<script>\n",
    "   // creates a new element\n",
    "   var pElement = document.createElement(\"p\")\n",
    "   pElement.innerHTML = \"Starting a paragraph of text.\"\n",
    "   \n",
    "   // outputs p tag after it has been created\n",
    "   console.log(\"Example #5, add p tag to HTML\")\n",
    "   console.log(pElement)\n",
    "   \n",
    "   // place the p element inside the HTML page\n",
    "   var div = document.getElementById(\"divContainerIDset\")\n",
    "   div.appendChild(pElement)\n",
    "</script>"
   ]
  },
  {
   "cell_type": "markdown",
   "metadata": {},
   "source": [
    "# Functions in JavaScript, using with DOM\n",
    "- Functions allow you to \"do something\"\n",
    "  - ex. \"eat food\" in a Snake Game\n",
    "- Functions were used in previous examples\n",
    "  - console.log = \"print something\"\n",
    "  - document.getElementById = \"find an element with id\"\n",
    "- Functions take in parameters, what to do (inside the parenthesis)\n",
    "  - the parameter tells console.log what to print\n",
    "  - the parameter in document.getElementById tells the id of the element\n",
    "- Functions can be used with DOM as well, thes will be shown below"
   ]
  },
  {
   "cell_type": "markdown",
   "metadata": {},
   "source": [
    "# Creeating functions\n",
    "- document functions functions were used to create a lot of functionality, but how can a developer create their own?\n",
    "- function are useful to avoid writing the same code over and over again\n",
    "- function can contain parameters for input (they effectively become variables)\n",
    "- function can contain a return, the are the \"output\" of the function"
   ]
  },
  {
   "cell_type": "code",
   "execution_count": 4,
   "metadata": {},
   "outputs": [
    {
     "data": {
      "text/html": [
       "<!-- the ID must be specified on the element -->\n",
       "<div id=\"divContainerIDfunction\">\n",
       "    <h1 id=\"h1ElementIDfunction\">My Title</h1>\n",
       "</div>\n",
       "\n",
       "<!-- javascript goew here -->\n",
       "<script>\n",
       "    // define a function => takes parameter text, returns a new p tab\n",
       "    function createPTag(text) {\n",
       "        // creates a new element\n",
       "        var pElement = document.createElement(\"p\")\n",
       "\n",
       "        // using the parameter like a variable\n",
       "        pElement.innerHTML = text\n",
       "        \n",
       "        // outputs p tag after it has been created\n",
       "        console.log(\"Example #6, add p tag using a function\")\n",
       "        console.log(pElement)\n",
       "\n",
       "        return pElement;\n",
       "    }\n",
       "\n",
       "    // using a function to create p tag\n",
       "    var pTag = createPTag(\"Starting a paragraph with cooler text than before.\")\n",
       "\n",
       "    // place the p element in the webpage\n",
       "    var div = document.getElementById(\"divContainerIDfunction\")\n",
       "    div.appendChild(pTag)\n",
       "</script>\n"
      ],
      "text/plain": [
       "<IPython.core.display.HTML object>"
      ]
     },
     "metadata": {},
     "output_type": "display_data"
    }
   ],
   "source": [
    "%%html\n",
    "<!-- the ID must be specified on the element -->\n",
    "<div id=\"divContainerIDfunction\">\n",
    "    <h1 id=\"h1ElementIDfunction\">My Title</h1>\n",
    "</div>\n",
    "\n",
    "<!-- javascript goew here -->\n",
    "<script>\n",
    "    // define a function => takes parameter text, returns a new p tab\n",
    "    function createPTag(text) {\n",
    "        // creates a new element\n",
    "        var pElement = document.createElement(\"p\")\n",
    "\n",
    "        // using the parameter like a variable\n",
    "        pElement.innerHTML = text\n",
    "        \n",
    "        // outputs p tag after it has been created\n",
    "        console.log(\"Example #6, add p tag using a function\")\n",
    "        console.log(pElement)\n",
    "\n",
    "        return pElement;\n",
    "    }\n",
    "\n",
    "    // using a function to create p tag\n",
    "    var pTag = createPTag(\"Starting a paragraph with cooler text than before.\")\n",
    "\n",
    "    // place the p element in the webpage\n",
    "    var div = document.getElementById(\"divContainerIDfunction\")\n",
    "    div.appendChild(pTag)\n",
    "</script>"
   ]
  },
  {
   "cell_type": "markdown",
   "metadata": {},
   "source": [
    "# OnClick Event\n",
    "- Run a function when an event occurs\n",
    "   - In this case, the p tag is created when the button is clicked"
   ]
  },
  {
   "cell_type": "code",
   "execution_count": null,
   "metadata": {},
   "outputs": [],
   "source": [
    "<div>\n",
    "    <p id=\"pTag1\">Click the button below to switch Messi and Ronaldo</p>\n",
    "    <button id=\"myButton\" onclick=\"switchTags()\">Click this</button>\n",
    "</div>\n",
    "<br>\n",
    "<br>\n",
    "<div>\n",
    "    <a id=\"aTag1\" href=\"https://www.youtube.com/watch?v=PSanJ5swYBM&t=2s&ab_channel=Fad3nHD\">Messi</a>\n",
    "    <br>\n",
    "    <a id=\"aTag2\" href=\"https://www.youtube.com/watch?v=OUKGsb8CpF8&ab_channel=Ronnie7M\">Ronaldo</a>\n",
    "    <p>This is paragraph 2. This is paragraph 2. This is paragraph 2. This is paragraph 2.</p>\n",
    "</div>\n",
    "\n",
    "<script>\n",
    "  function switchTags() {\n",
    "    var aTag1 = document.getElementById(\"aTag1\");\n",
    "    var aTag2 = document.getElementById(\"aTag2\");\n",
    "    var pTag1 = document.getElementById(\"pTag1\");\n",
    "    var aTag1Inside = aTag1.innerHTML;\n",
    "    var aTag2Inside = aTag2.innerHTML;\n",
    "    aTag1.innerHTML = aTag2Inside;\n",
    "    aTag2.innerHTML = aTag1Inside;\n",
    "    pTag1.innerHTML = \"Switched!\";\n",
    "  }\n",
    "</script>\n"
   ]
  },
  {
   "cell_type": "markdown",
   "metadata": {},
   "source": [
    "# Hacks\n",
    "- Copy your HTML code from the HTML hacks. Write a Javascript snippet to switch the links of the two a tags when a button is pressed. Once they are switched, change the inner HTML of the top p tag to the word \"switched!\""
   ]
  },
  {
   "cell_type": "code",
   "execution_count": 3,
   "metadata": {
    "vscode": {
     "languageId": "html"
    }
   },
   "outputs": [
    {
     "data": {
      "text/html": [
       "\n",
       "<div>\n",
       "  <p id=\"pTag1\">This is a sentence</p>\n",
       "  <button id=\"myButton\" onclick=\"switchTags()\">Click this</button>\n",
       "</div>\n",
       "<br>\n",
       "<br>\n",
       "<div>\n",
       "  <a id=\"aTag1\" href=\"https://www.youtube.com/watch?v=PSanJ5swYBM&t=2s&ab_channel=Fad3nHD\">Messi</a>\n",
       "  <br>\n",
       "  <a id=\"aTag2\" href=\"https://www.youtube.com/watch?v=OUKGsb8CpF8&ab_channel=Ronnie7M\">Ronaldo</a>\n",
       "  <p>This is a sentence</p>\n",
       "</div>\n",
       "\n",
       "<script>\n",
       "function switchTags() {\n",
       "  var aTag1 = document.getElementById(\"aTag1\");\n",
       "  var aTag2 = document.getElementById(\"aTag2\");\n",
       "  var pTag1 = document.getElementById(\"pTag1\");\n",
       "\n",
       "  // Swap the innerHTML of the <a> tags\n",
       "  var aTag1Inside = aTag1.innerHTML;\n",
       "  var aTag2Inside = aTag2.innerHTML;\n",
       "  aTag1.innerHTML = aTag2Inside;\n",
       "  aTag2.innerHTML = aTag1Inside;\n",
       "\n",
       "  // Swap the href attributes of the <a> tags\n",
       "  var aTag1Href = aTag1.getAttribute(\"href\");\n",
       "  var aTag2Href = aTag2.getAttribute(\"href\");\n",
       "  aTag1.setAttribute(\"href\", aTag2Href);\n",
       "  aTag2.setAttribute(\"href\", aTag1Href);\n",
       "\n",
       "  pTag1.innerHTML = \"Switched!\";\n",
       "}\n",
       "</script>\n"
      ],
      "text/plain": [
       "<IPython.core.display.HTML object>"
      ]
     },
     "metadata": {},
     "output_type": "display_data"
    }
   ],
   "source": [
    "%%html\n",
    "\n",
    "<div>\n",
    "  <p id=\"pTag1\">This is a sentence</p>\n",
    "  <button id=\"myButton\" onclick=\"switchTags()\">Click this</button>\n",
    "</div>\n",
    "<br>\n",
    "<br>\n",
    "<div>\n",
    "  <a id=\"aTag1\" href=\"https://www.youtube.com/watch?v=PSanJ5swYBM&t=2s&ab_channel=Fad3nHD\">Messi</a>\n",
    "  <br>\n",
    "  <a id=\"aTag2\" href=\"https://www.youtube.com/watch?v=OUKGsb8CpF8&ab_channel=Ronnie7M\">Ronaldo</a>\n",
    "  <p>This is a sentence</p>\n",
    "</div>\n",
    "\n",
    "<script>\n",
    "function switchTags() {\n",
    "  var aTag1 = document.getElementById(\"aTag1\");\n",
    "  var aTag2 = document.getElementById(\"aTag2\");\n",
    "  var pTag1 = document.getElementById(\"pTag1\");\n",
    "\n",
    "  // Swap the innerHTML of the <a> tags\n",
    "  var aTag1Inside = aTag1.innerHTML;\n",
    "  var aTag2Inside = aTag2.innerHTML;\n",
    "  aTag1.innerHTML = aTag2Inside;\n",
    "  aTag2.innerHTML = aTag1Inside;\n",
    "\n",
    "  // Swap the href attributes of the <a> tags\n",
    "  var aTag1Href = aTag1.getAttribute(\"href\");\n",
    "  var aTag2Href = aTag2.getAttribute(\"href\");\n",
    "  aTag1.setAttribute(\"href\", aTag2Href);\n",
    "  aTag2.setAttribute(\"href\", aTag1Href);\n",
    "\n",
    "  pTag1.innerHTML = \"Switched!\";\n",
    "}\n",
    "</script>\n"
   ]
  }
 ],
 "metadata": {
  "kernelspec": {
   "display_name": "Python 3",
   "language": "python",
   "name": "python3"
  },
  "language_info": {
   "codemirror_mode": {
    "name": "ipython",
    "version": 3
   },
   "file_extension": ".py",
   "mimetype": "text/x-python",
   "name": "python",
   "nbconvert_exporter": "python",
   "pygments_lexer": "ipython3",
   "version": "3.11.5"
  },
  "orig_nbformat": 4
 },
 "nbformat": 4,
 "nbformat_minor": 2
}
